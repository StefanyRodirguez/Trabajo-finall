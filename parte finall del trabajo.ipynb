{
 "cells": [
  {
   "cell_type": "markdown",
   "metadata": {},
   "source": [
    "# QTL 13827"
   ]
  },
  {
   "cell_type": "code",
   "execution_count": 3,
   "metadata": {},
   "outputs": [
    {
     "data": {
      "text/plain": [
       "['Chromosome:1',\n",
       " 'QTL Peak Location:96.42 (cM)',\n",
       " 'QTL Span:95.9-101.9 (cM)78.3-85.2 (Mbp)',\n",
       " 'Threshold significance level:Significant',\n",
       " 'Associated Gene:n/a']"
      ]
     },
     "execution_count": 3,
     "metadata": {},
     "output_type": "execute_result"
    }
   ],
   "source": [
    "import requests \n",
    "from bs4 import BeautifulSoup \n",
    "\n",
    "page1 = requests.get(\"https://www.animalgenome.org/cgi-bin/QTLdb/OA/qdetails?QTL_ID=13827\")\n",
    "page1\n",
    "soup = BeautifulSoup(page1.content, 'html.parser')\n",
    "gen1 = soup.find_all('tr')\n",
    "a1 = list() \n",
    "for i in  gen1:\n",
    "    a1.append(i.text) \n",
    "QTLMAPINFORMATION=[a1[10],a1[11],a1[12],a1[22],a1[26]]\n",
    "QTLMAPINFORMATION\n"
   ]
  },
  {
   "cell_type": "code",
   "execution_count": null,
   "metadata": {},
   "outputs": [],
   "source": []
  },
  {
   "cell_type": "markdown",
   "metadata": {},
   "source": [
    "# QTL 57681"
   ]
  },
  {
   "cell_type": "code",
   "execution_count": 4,
   "metadata": {},
   "outputs": [
    {
     "data": {
      "text/plain": [
       "['Chromosome:2',\n",
       " 'QTL Peak Location:0.00 (cM)',\n",
       " 'QTL Span:69.74-69.74 (cM)55.2-55.2 (Mbp)',\n",
       " 'Threshold significance level:Significant',\n",
       " 'Associated Gene: ()']"
      ]
     },
     "execution_count": 4,
     "metadata": {},
     "output_type": "execute_result"
    }
   ],
   "source": [
    "page2 = requests.get(\"https://www.animalgenome.org/cgi-bin/QTLdb/OA/qdetails?QTL_ID=57681\")\n",
    "page2\n",
    "soup = BeautifulSoup(page2.content, 'html.parser')\n",
    "gen2 = soup.find_all('tr')\n",
    "a2 = list() \n",
    "for i in  gen2:\n",
    "    a2.append(i.text) \n",
    "QTLMAPINFORMATION2=[a2[10],a2[11],a2[12],a2[22],a2[26]]\n",
    "QTLMAPINFORMATION2\n"
   ]
  },
  {
   "cell_type": "code",
   "execution_count": null,
   "metadata": {},
   "outputs": [],
   "source": []
  },
  {
   "cell_type": "markdown",
   "metadata": {},
   "source": [
    "# QTL 13832"
   ]
  },
  {
   "cell_type": "code",
   "execution_count": 5,
   "metadata": {},
   "outputs": [
    {
     "data": {
      "text/plain": [
       "['Chromosome:1',\n",
       " 'QTL Peak Location:124.3 (cM)',\n",
       " 'QTL Span:113.8-124.5 (cM)93.1-97.9 (Mbp)',\n",
       " 'Threshold significance level:Significant',\n",
       " 'Associated Gene:n/a']"
      ]
     },
     "execution_count": 5,
     "metadata": {},
     "output_type": "execute_result"
    }
   ],
   "source": [
    "page3 = requests.get(\"https://www.animalgenome.org/cgi-bin/QTLdb/OA/qdetails?QTL_ID=13832\")\n",
    "page3\n",
    "soup = BeautifulSoup(page3.content, 'html.parser')\n",
    "gen3 = soup.find_all('tr')\n",
    "a3 = list() \n",
    "for i in  gen3:\n",
    "    a3.append(i.text) \n",
    "QTLMAPINFORMATION3=[a3[10],a3[11],a3[12],a3[22],a3[26]]\n",
    "QTLMAPINFORMATION3\n"
   ]
  },
  {
   "cell_type": "markdown",
   "metadata": {},
   "source": [
    "# QTL # 57709"
   ]
  },
  {
   "cell_type": "code",
   "execution_count": 38,
   "metadata": {},
   "outputs": [
    {
     "data": {
      "text/plain": [
       "['Chromosome:6',\n",
       " 'QTL Peak Location:49.9 (cM)',\n",
       " 'QTL Span:48.33-48.53 (cM)68.7-68.8 (Mbp)',\n",
       " 'Threshold significance level:Significant',\n",
       " 'Associated Gene:ABCG2 (ATP-binding cassette, sub-family G (WHITE), member 2)']"
      ]
     },
     "execution_count": 38,
     "metadata": {},
     "output_type": "execute_result"
    }
   ],
   "source": [
    "import requests \n",
    "from bs4 import BeautifulSoup \n",
    "\n",
    "page4 = requests.get(\"https://www.animalgenome.org/cgi-bin/QTLdb/OA/qdetails?QTL_ID=57709\")\n",
    "page4\n",
    "soup = BeautifulSoup(page5.content, 'html.parser')\n",
    "gen4 = soup.find_all('tr')\n",
    "a4 = list() \n",
    "for i in  gen1:\n",
    "    a4.append(i.text) \n",
    "QTLMAPINFORMATION=[a4[10],a4[11],a4[12],a4[22],a4[26]]\n",
    "QTLMAPINFORMATION"
   ]
  },
  {
   "cell_type": "markdown",
   "metadata": {},
   "source": [
    "QTL # 13992"
   ]
  },
  {
   "cell_type": "code",
   "execution_count": 42,
   "metadata": {},
   "outputs": [
    {
     "data": {
      "text/plain": [
       "['Chromosome:2',\n",
       " 'QTL Peak Location:206 (cM)',\n",
       " 'QTL Span:171.7-247.7 (cM)143.9-204.4 (Mbp)',\n",
       " 'Threshold significance level:Suggestive',\n",
       " 'Associated Gene:n/a']"
      ]
     },
     "execution_count": 42,
     "metadata": {},
     "output_type": "execute_result"
    }
   ],
   "source": [
    "import requests \n",
    "from bs4 import BeautifulSoup \n",
    "\n",
    "page1 = requests.get(\"https://www.animalgenome.org/cgi-bin/QTLdb/OA/qdetails?QTL_ID=13992\")\n",
    "page1\n",
    "soup = BeautifulSoup(page5.content, 'html.parser')\n",
    "gen1 = soup.find_all('tr')\n",
    "a1 = list() \n",
    "for i in  gen1:\n",
    "    a1.append(i.text) \n",
    "QTLMAPINFORMATION=[a1[10],a1[11],a1[12],a1[22],a1[26]]\n",
    "QTLMAPINFORMATION"
   ]
  },
  {
   "cell_type": "markdown",
   "metadata": {},
   "source": [
    "QTL # 14147"
   ]
  },
  {
   "cell_type": "code",
   "execution_count": 43,
   "metadata": {},
   "outputs": [
    {
     "data": {
      "text/plain": [
       "['Chromosome:2',\n",
       " 'QTL Peak Location:206 (cM)',\n",
       " 'QTL Span:171.7-247.7 (cM)143.9-204.4 (Mbp)',\n",
       " 'Threshold significance level:Suggestive',\n",
       " 'Associated Gene:n/a']"
      ]
     },
     "execution_count": 43,
     "metadata": {},
     "output_type": "execute_result"
    }
   ],
   "source": [
    "import requests \n",
    "from bs4 import BeautifulSoup \n",
    "\n",
    "page6 = requests.get(\"https://www.animalgenome.org/cgi-bin/QTLdb/OA/qdetails?QTL_ID=14147\")\n",
    "page6\n",
    "soup = BeautifulSoup(page6.content, 'html.parser')\n",
    "gen6 = soup.find_all('tr')\n",
    "a1 = list() \n",
    "for i in  gen1:\n",
    "    a1.append(i.text) \n",
    "QTLMAPINFORMATION=[a1[10],a1[11],a1[12],a1[22],a1[26]]\n",
    "QTLMAPINFORMATION"
   ]
  },
  {
   "cell_type": "markdown",
   "metadata": {},
   "source": [
    "\n",
    "QTL # 57681"
   ]
  },
  {
   "cell_type": "code",
   "execution_count": 9,
   "metadata": {},
   "outputs": [
    {
     "data": {
      "text/plain": [
       "['Chromosome:2',\n",
       " 'QTL Peak Location:0.00 (cM)',\n",
       " 'QTL Span:69.74-69.74 (cM)55.2-55.2 (Mbp)',\n",
       " 'Threshold significance level:Significant',\n",
       " 'Associated Gene: ()']"
      ]
     },
     "execution_count": 9,
     "metadata": {},
     "output_type": "execute_result"
    }
   ],
   "source": [
    "import requests \n",
    "from bs4 import BeautifulSoup \n",
    "\n",
    "page7 = requests.get(\"https://www.animalgenome.org/cgi-bin/QTLdb/OA/qdetails?QTL_ID=57681\")\n",
    "page7\n",
    "soup = BeautifulSoup(page7.content, 'html.parser')\n",
    "gen7 = soup.find_all('tr')\n",
    "a7 = list() \n",
    "for i in  gen1:\n",
    "    a7.append(i.text) \n",
    "QTLMAPINFORMATION=[a1[10],a1[11],a1[12],a1[22],a1[26]]\n",
    "QTLMAPINFORMATION"
   ]
  },
  {
   "cell_type": "markdown",
   "metadata": {},
   "source": [
    "\n",
    "QTL # 57684"
   ]
  },
  {
   "cell_type": "code",
   "execution_count": 10,
   "metadata": {},
   "outputs": [
    {
     "data": {
      "text/plain": [
       "['Chromosome:2',\n",
       " 'QTL Peak Location:0.00 (cM)',\n",
       " 'QTL Span:218.39-218.39 (cM)172.5-172.5 (Mbp)',\n",
       " 'Threshold significance level:Significant',\n",
       " 'Associated Gene: ()']"
      ]
     },
     "execution_count": 10,
     "metadata": {},
     "output_type": "execute_result"
    }
   ],
   "source": [
    "import requests \n",
    "from bs4 import BeautifulSoup \n",
    "\n",
    "page8 = requests.get(\"https://www.animalgenome.org/cgi-bin/QTLdb/OA/qdetails?QTL_ID=57684\")\n",
    "page8\n",
    "soup = BeautifulSoup(page1.content, 'html.parser')\n",
    "gen8 = soup.find_all('tr')\n",
    "a8 = list() \n",
    "for i in  gen1:\n",
    "    a8.append(i.text) \n",
    "QTLMAPINFORMATION=[a1[10],a1[11],a1[12],a1[22],a1[26]]\n",
    "QTLMAPINFORMATION"
   ]
  },
  {
   "cell_type": "markdown",
   "metadata": {},
   "source": [
    "\n",
    "QTL # 57718"
   ]
  },
  {
   "cell_type": "code",
   "execution_count": 27,
   "metadata": {},
   "outputs": [
    {
     "data": {
      "text/plain": [
       "['Chromosome:6',\n",
       " 'QTL Peak Location:49.9 (cM)',\n",
       " 'QTL Span:48.33-48.53 (cM)68.7-68.8 (Mbp)',\n",
       " 'Threshold significance level:Significant',\n",
       " 'Associated Gene:ABCG2 (ATP-binding cassette, sub-family G (WHITE), member 2)']"
      ]
     },
     "execution_count": 27,
     "metadata": {},
     "output_type": "execute_result"
    }
   ],
   "source": [
    "import requests \n",
    "from bs4 import BeautifulSoup \n",
    "\n",
    "page9 = requests.get(\"https://www.animalgenome.org/cgi-bin/QTLdb/OA/qdetails?QTL_ID=57718\")\n",
    "page9\n",
    "soup = BeautifulSoup(page1.content, 'html.parser')\n",
    "gen9 = soup.find_all('tr')\n",
    "a9 = list() \n",
    "for i in  gen1:\n",
    "    a9.append(i.text) \n",
    "QTLMAPINFORMATION=[a1[10],a1[11],a1[12],a1[22],a1[26]]\n",
    "QTLMAPINFORMATION"
   ]
  },
  {
   "cell_type": "markdown",
   "metadata": {},
   "source": [
    "\n",
    "QTL # 13996 "
   ]
  },
  {
   "cell_type": "code",
   "execution_count": 12,
   "metadata": {},
   "outputs": [
    {
     "data": {
      "text/plain": [
       "['Chromosome:3',\n",
       " 'QTL Peak Location:88.2 (cM)',\n",
       " 'QTL Span:73.5-113.0 (cM)41.4-76.9 (Mbp)',\n",
       " 'Threshold significance level:Significant',\n",
       " 'Associated Gene:n/a']"
      ]
     },
     "execution_count": 12,
     "metadata": {},
     "output_type": "execute_result"
    }
   ],
   "source": [
    "import requests \n",
    "from bs4 import BeautifulSoup \n",
    "\n",
    "page10 = requests.get(\"https://www.animalgenome.org/cgi-bin/QTLdb/OA/qdetails?QTL_ID=13996\")\n",
    "page10\n",
    "soup = BeautifulSoup(page1.content, 'html.parser')\n",
    "gen10 = soup.find_all('tr')\n",
    "a10 = list() \n",
    "for i in  gen1:\n",
    "    a10.append(i.text) \n",
    "QTLMAPINFORMATION=[a1[10],a1[11],a1[12],a1[22],a1[26]]\n",
    "QTLMAPINFORMATION"
   ]
  },
  {
   "cell_type": "markdown",
   "metadata": {},
   "source": [
    "\n",
    "QTL # 57740"
   ]
  },
  {
   "cell_type": "code",
   "execution_count": 13,
   "metadata": {},
   "outputs": [
    {
     "data": {
      "text/plain": [
       "['Chromosome:3',\n",
       " 'QTL Peak Location:130.96 (cM)',\n",
       " 'QTL Span:130.93-130.99 (cM)97.0-97.0 (Mbp)',\n",
       " 'Threshold significance level:Significant',\n",
       " 'Associated Gene: ()']"
      ]
     },
     "execution_count": 13,
     "metadata": {},
     "output_type": "execute_result"
    }
   ],
   "source": [
    "import requests \n",
    "from bs4 import BeautifulSoup \n",
    "\n",
    "page11 = requests.get(\"https://www.animalgenome.org/cgi-bin/QTLdb/OA/qdetails?QTL_ID=57740\")\n",
    "page11\n",
    "soup = BeautifulSoup(page1.content, 'html.parser')\n",
    "gen11 = soup.find_all('tr')\n",
    "a11 = list() \n",
    "for i in  gen1:\n",
    "    a11.append(i.text) \n",
    "QTLMAPINFORMATION=[a1[10],a1[11],a1[12],a1[22],a1[26]]\n",
    "QTLMAPINFORMATION"
   ]
  },
  {
   "cell_type": "markdown",
   "metadata": {},
   "source": [
    "\n",
    "QTL # 193115"
   ]
  },
  {
   "cell_type": "code",
   "execution_count": 33,
   "metadata": {},
   "outputs": [
    {
     "data": {
      "text/plain": [
       "['Chromosome:6',\n",
       " 'QTL Peak Location:49.9 (cM)',\n",
       " 'QTL Span:48.33-48.53 (cM)68.7-68.8 (Mbp)',\n",
       " 'Threshold significance level:Significant',\n",
       " 'Associated Gene:ABCG2 (ATP-binding cassette, sub-family G (WHITE), member 2)']"
      ]
     },
     "execution_count": 33,
     "metadata": {},
     "output_type": "execute_result"
    }
   ],
   "source": [
    "import requests \n",
    "from bs4 import BeautifulSoup \n",
    "\n",
    "page12 = requests.get(\"https://www.animalgenome.org/cgi-bin/QTLdb/OA/qdetails?QTL_ID=57740\")\n",
    "page12\n",
    "soup = BeautifulSoup(page1.content, 'html.parser')\n",
    "gen12 = soup.find_all('tr')\n",
    "a12 = list() \n",
    "for i in  gen1:\n",
    "    a12.append(i.text) \n",
    "QTLMAPINFORMATION=[a1[10],a1[11],a1[12],a1[22],a1[26]]\n",
    "QTLMAPINFORMATION"
   ]
  },
  {
   "cell_type": "markdown",
   "metadata": {},
   "source": [
    "\n",
    "QTL # 13672"
   ]
  },
  {
   "cell_type": "code",
   "execution_count": 14,
   "metadata": {},
   "outputs": [
    {
     "data": {
      "text/plain": [
       "['Chromosome:6',\n",
       " 'QTL Peak Location:119.8 (cM)',\n",
       " 'QTL Span:129.96-130.16 (cM)100.4-100.6 (Mbp)',\n",
       " 'Threshold significance level:Significant',\n",
       " 'Associated Gene:n/a']"
      ]
     },
     "execution_count": 14,
     "metadata": {},
     "output_type": "execute_result"
    }
   ],
   "source": [
    "import requests \n",
    "from bs4 import BeautifulSoup \n",
    "\n",
    "page13 = requests.get(\"https://www.animalgenome.org/cgi-bin/QTLdb/OA/qdetails?QTL_ID=13672\")\n",
    "page13\n",
    "soup = BeautifulSoup(page1.content, 'html.parser')\n",
    "gen13 = soup.find_all('tr')\n",
    "a13 = list() \n",
    "for i in  gen1:\n",
    "    a13.append(i.text) \n",
    "QTLMAPINFORMATION=[a1[10],a1[11],a1[12],a1[22],a1[26]]\n",
    "QTLMAPINFORMATION"
   ]
  },
  {
   "cell_type": "markdown",
   "metadata": {},
   "source": [
    "\n",
    "QTL # 13818 "
   ]
  },
  {
   "cell_type": "code",
   "execution_count": 30,
   "metadata": {},
   "outputs": [
    {
     "data": {
      "text/plain": [
       "['Chromosome:6',\n",
       " 'QTL Peak Location:49.9 (cM)',\n",
       " 'QTL Span:48.33-48.53 (cM)68.7-68.8 (Mbp)',\n",
       " 'Threshold significance level:Significant',\n",
       " 'Associated Gene:ABCG2 (ATP-binding cassette, sub-family G (WHITE), member 2)']"
      ]
     },
     "execution_count": 30,
     "metadata": {},
     "output_type": "execute_result"
    }
   ],
   "source": [
    "import requests \n",
    "from bs4 import BeautifulSoup \n",
    "\n",
    "page14 = requests.get(\"https://www.animalgenome.org/cgi-bin/QTLdb/OA/qdetails?QTL_ID=13818\")\n",
    "page14\n",
    "soup = BeautifulSoup(page1.content, 'html.parser')\n",
    "gen14 = soup.find_all('tr')\n",
    "a14 = list() \n",
    "for i in  gen1:\n",
    "    a14.append(i.text) \n",
    "QTLMAPINFORMATION=[a14[10],a14[11],a14[12],a14[22],a14[26]]\n",
    "QTLMAPINFORMATION"
   ]
  },
  {
   "cell_type": "markdown",
   "metadata": {},
   "source": [
    "\n",
    "QTL # 13820"
   ]
  },
  {
   "cell_type": "code",
   "execution_count": 28,
   "metadata": {},
   "outputs": [
    {
     "data": {
      "text/plain": [
       "['Chromosome:6',\n",
       " 'QTL Peak Location:49.9 (cM)',\n",
       " 'QTL Span:48.33-48.53 (cM)68.7-68.8 (Mbp)',\n",
       " 'Threshold significance level:Significant',\n",
       " 'Associated Gene:ABCG2 (ATP-binding cassette, sub-family G (WHITE), member 2)']"
      ]
     },
     "execution_count": 28,
     "metadata": {},
     "output_type": "execute_result"
    }
   ],
   "source": [
    "import requests \n",
    "from bs4 import BeautifulSoup \n",
    "\n",
    "page15 = requests.get(\"https://www.animalgenome.org/cgi-bin/QTLdb/OA/qdetails?QTL_ID=13820\")\n",
    "page15\n",
    "soup = BeautifulSoup(page1.content, 'html.parser')\n",
    "gen15 = soup.find_all('tr')\n",
    "a15 = list() \n",
    "for i in  gen1:\n",
    "    a15.append(i.text) \n",
    "QTLMAPINFORMATION=[a1[10],a1[11],a1[12],a1[22],a1[26]]\n",
    "QTLMAPINFORMATION"
   ]
  },
  {
   "cell_type": "markdown",
   "metadata": {},
   "source": [
    "\n",
    "QTL # 14246"
   ]
  },
  {
   "cell_type": "code",
   "execution_count": 32,
   "metadata": {},
   "outputs": [
    {
     "data": {
      "text/plain": [
       "['Chromosome:6',\n",
       " 'QTL Peak Location:49.9 (cM)',\n",
       " 'QTL Span:48.33-48.53 (cM)68.7-68.8 (Mbp)',\n",
       " 'Threshold significance level:Significant',\n",
       " 'Associated Gene:ABCG2 (ATP-binding cassette, sub-family G (WHITE), member 2)']"
      ]
     },
     "execution_count": 32,
     "metadata": {},
     "output_type": "execute_result"
    }
   ],
   "source": [
    "import requests \n",
    "from bs4 import BeautifulSoup \n",
    "\n",
    "page16 = requests.get(\"https://www.animalgenome.org/cgi-bin/QTLdb/OA/qdetails?QTL_ID=14246\")\n",
    "page16\n",
    "soup = BeautifulSoup(page1.content, 'html.parser')\n",
    "gen16 = soup.find_all('tr')\n",
    "a16 = list() \n",
    "for i in  gen1:\n",
    "    a16.append(i.text) \n",
    "QTLMAPINFORMATION=[a16[10],a16[11],a16[12],a16[22],a16[26]]\n",
    "QTLMAPINFORMATION"
   ]
  },
  {
   "cell_type": "markdown",
   "metadata": {},
   "source": [
    "\n",
    "QTL # 170586"
   ]
  },
  {
   "cell_type": "code",
   "execution_count": 23,
   "metadata": {},
   "outputs": [
    {
     "data": {
      "text/plain": [
       "['Chromosome:6',\n",
       " 'QTL Peak Location:0.00 (cM)',\n",
       " 'QTL Span:0.00-0.00 (cM)98.9-99.1 (Mbp)',\n",
       " 'Threshold significance level:Significant',\n",
       " 'Associated Gene:n/a']"
      ]
     },
     "execution_count": 23,
     "metadata": {},
     "output_type": "execute_result"
    }
   ],
   "source": [
    "import requests \n",
    "from bs4 import BeautifulSoup \n",
    "\n",
    "page1 = requests.get(\"https://www.animalgenome.org/cgi-bin/QTLdb/OA/qdetails?QTL_ID=170586\")\n",
    "page1\n",
    "soup = BeautifulSoup(page1.content, 'html.parser')\n",
    "gen1 = soup.find_all('tr')\n",
    "a1 = list() \n",
    "for i in  gen1:\n",
    "    a1.append(i.text) \n",
    "QTLMAPINFORMATION=[a1[10],a1[11],a1[12],a1[22],a1[26]]\n",
    "QTLMAPINFORMATION"
   ]
  },
  {
   "cell_type": "markdown",
   "metadata": {},
   "source": [
    "\n",
    "QTL # 57745"
   ]
  },
  {
   "cell_type": "code",
   "execution_count": 44,
   "metadata": {},
   "outputs": [
    {
     "data": {
      "text/plain": [
       "['Chromosome:7',\n",
       " 'QTL Peak Location:60.46 (cM)',\n",
       " 'QTL Span:60.41-60.50 (cM)40.7-40.8 (Mbp)',\n",
       " 'Threshold significance level:Significant',\n",
       " 'Associated Gene: ()']"
      ]
     },
     "execution_count": 44,
     "metadata": {},
     "output_type": "execute_result"
    }
   ],
   "source": [
    "import requests \n",
    "from bs4 import BeautifulSoup \n",
    "\n",
    "page1 = requests.get(\"https://www.animalgenome.org/cgi-bin/QTLdb/OA/qdetails?QTL_ID=57745\")\n",
    "page1\n",
    "soup = BeautifulSoup(page1.content, 'html.parser')\n",
    "gen1 = soup.find_all('tr')\n",
    "a1 = list() \n",
    "for i in  gen1:\n",
    "    a1.append(i.text) \n",
    "QTLMAPINFORMATION=[a1[10],a1[11],a1[12],a1[22],a1[26]]\n",
    "QTLMAPINFORMATION"
   ]
  },
  {
   "cell_type": "markdown",
   "metadata": {},
   "source": [
    "\n",
    "QTL # 13985 "
   ]
  },
  {
   "cell_type": "code",
   "execution_count": 25,
   "metadata": {},
   "outputs": [
    {
     "data": {
      "text/plain": [
       "['Chromosome:9',\n",
       " 'QTL Peak Location:16.6 (cM)',\n",
       " 'QTL Span:16.6-16.6 (cM)13.4-13.4 (Mbp)',\n",
       " 'Threshold significance level:Significant',\n",
       " 'Associated Gene:DGAT1 (diacylglycerol O-acyltransferase 1)']"
      ]
     },
     "execution_count": 25,
     "metadata": {},
     "output_type": "execute_result"
    }
   ],
   "source": [
    "import requests \n",
    "from bs4 import BeautifulSoup \n",
    "\n",
    "page1 = requests.get(\"https://www.animalgenome.org/cgi-bin/QTLdb/OA/qdetails?QTL_ID=13985\")\n",
    "page1\n",
    "soup = BeautifulSoup(page1.content, 'html.parser')\n",
    "gen1 = soup.find_all('tr')\n",
    "a1 = list() \n",
    "for i in  gen1:\n",
    "    a1.append(i.text) \n",
    "QTLMAPINFORMATION=[a1[10],a1[11],a1[12],a1[22],a1[26]]\n",
    "QTLMAPINFORMATION"
   ]
  },
  {
   "cell_type": "code",
   "execution_count": null,
   "metadata": {},
   "outputs": [],
   "source": []
  },
  {
   "cell_type": "code",
   "execution_count": null,
   "metadata": {},
   "outputs": [],
   "source": []
  }
 ],
 "metadata": {
  "kernelspec": {
   "display_name": "Python 3",
   "language": "python",
   "name": "python3"
  },
  "language_info": {
   "codemirror_mode": {
    "name": "ipython",
    "version": 3
   },
   "file_extension": ".py",
   "mimetype": "text/x-python",
   "name": "python",
   "nbconvert_exporter": "python",
   "pygments_lexer": "ipython3",
   "version": "3.7.3"
  }
 },
 "nbformat": 4,
 "nbformat_minor": 4
}
