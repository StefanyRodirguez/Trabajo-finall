{
 "cells": [
  {
   "cell_type": "markdown",
   "metadata": {},
   "source": [
    "# QTL 13827"
   ]
  },
  {
   "cell_type": "code",
   "execution_count": 3,
   "metadata": {},
   "outputs": [
    {
     "data": {
      "text/plain": [
       "['Chromosome:1',\n",
       " 'QTL Peak Location:96.42 (cM)',\n",
       " 'QTL Span:95.9-101.9 (cM)78.3-85.2 (Mbp)',\n",
       " 'Threshold significance level:Significant',\n",
       " 'Associated Gene:n/a']"
      ]
     },
     "execution_count": 3,
     "metadata": {},
     "output_type": "execute_result"
    }
   ],
   "source": [
    "import requests \n",
    "from bs4 import BeautifulSoup \n",
    "\n",
    "page1 = requests.get(\"https://www.animalgenome.org/cgi-bin/QTLdb/OA/qdetails?QTL_ID=13827\")\n",
    "page1\n",
    "soup = BeautifulSoup(page1.content, 'html.parser')\n",
    "gen1 = soup.find_all('tr')\n",
    "a1 = list() \n",
    "for i in  gen1:\n",
    "    a1.append(i.text) \n",
    "QTLMAPINFORMATION=[a1[10],a1[11],a1[12],a1[22],a1[26]]\n",
    "QTLMAPINFORMATION\n"
   ]
  },
  {
   "cell_type": "code",
   "execution_count": null,
   "metadata": {},
   "outputs": [],
   "source": []
  },
  {
   "cell_type": "markdown",
   "metadata": {},
   "source": [
    "# QTL 57681"
   ]
  },
  {
   "cell_type": "code",
   "execution_count": 9,
   "metadata": {},
   "outputs": [
    {
     "data": {
      "text/plain": [
       "['Chromosome:2',\n",
       " 'QTL Peak Location:0.00 (cM)',\n",
       " 'QTL Span:69.74-69.74 (cM)55.2-55.2 (Mbp)',\n",
       " 'Threshold significance level:Significant',\n",
       " 'Associated Gene: ()']"
      ]
     },
     "execution_count": 9,
     "metadata": {},
     "output_type": "execute_result"
    }
   ],
   "source": [
    "page2 = requests.get(\"https://www.animalgenome.org/cgi-bin/QTLdb/OA/qdetails?QTL_ID=57681\")\n",
    "page2\n",
    "soup = BeautifulSoup(page2.content, 'html.parser')\n",
    "gen2 = soup.find_all('tr')\n",
    "a2 = list() \n",
    "for i in  gen2:\n",
    "    a2.append(i.text) \n",
    "QTLMAPINFORMATION2=[a2[10],a2[11],a2[12],a2[22],a2[26]]\n",
    "QTLMAPINFORMATION2\n"
   ]
  },
  {
   "cell_type": "code",
   "execution_count": null,
   "metadata": {},
   "outputs": [],
   "source": []
  },
  {
   "cell_type": "markdown",
   "metadata": {},
   "source": [
    "# QTL 13832"
   ]
  },
  {
   "cell_type": "code",
   "execution_count": 12,
   "metadata": {},
   "outputs": [
    {
     "data": {
      "text/plain": [
       "['Chromosome:1',\n",
       " 'QTL Peak Location:124.3 (cM)',\n",
       " 'QTL Span:113.8-124.5 (cM)93.1-97.9 (Mbp)',\n",
       " 'Threshold significance level:Significant',\n",
       " 'Associated Gene:n/a']"
      ]
     },
     "execution_count": 12,
     "metadata": {},
     "output_type": "execute_result"
    }
   ],
   "source": [
    "page3 = requests.get(\"https://www.animalgenome.org/cgi-bin/QTLdb/OA/qdetails?QTL_ID=13832\")\n",
    "page3\n",
    "soup = BeautifulSoup(page3.content, 'html.parser')\n",
    "gen3 = soup.find_all('tr')\n",
    "a3 = list() \n",
    "for i in  gen3:\n",
    "    a3.append(i.text) \n",
    "QTLMAPINFORMATION3=[a3[10],a3[11],a3[12],a3[22],a3[26]]\n",
    "QTLMAPINFORMATION3\n"
   ]
  }
 ],
 "metadata": {
  "kernelspec": {
   "display_name": "Python 3",
   "language": "python",
   "name": "python3"
  },
  "language_info": {
   "codemirror_mode": {
    "name": "ipython",
    "version": 3
   },
   "file_extension": ".py",
   "mimetype": "text/x-python",
   "name": "python",
   "nbconvert_exporter": "python",
   "pygments_lexer": "ipython3",
   "version": "3.7.6"
  }
 },
 "nbformat": 4,
 "nbformat_minor": 4
}
